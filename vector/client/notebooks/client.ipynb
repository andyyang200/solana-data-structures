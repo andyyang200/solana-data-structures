{
 "cells": [
  {
   "cell_type": "code",
   "execution_count": 1,
   "source": [
    "import sys\n",
    "sys.path.append('..')\n",
    "\n",
    "from vector import Vector\n",
    "from account_info import Client as AccountClient\n",
    "from solana.publickey import PublicKey\n",
    "from solana.keypair import Keypair\n",
    "from solana.rpc.api import Client\n",
    "\n",
    "from time import sleep\n",
    "\n",
    "\n",
    "solana_client = Client(\"https://api.devnet.solana.com\")\n",
    "account_client = AccountClient()\n",
    "\n",
    "def print_account_data(v):\n",
    "    print(account_client.account_data(v.meta_key))\n",
    "    for key in v.account_keys:\n",
    "        print(account_client.account_data(key))"
   ],
   "outputs": [],
   "metadata": {}
  },
  {
   "cell_type": "code",
   "execution_count": 2,
   "source": [
    "\n",
    "auth = Keypair(b's\\xb9\\xaf\\xc9\\xb3s\\xf2\\xad\\xf1\\xc7}\\x1e\\x87{\\x06\\x8e\\x9b\\xc0\\x0ftT[c\\xf5\\x1b\\x14O\\xa5\\xc5\\xa7\\xc5\\xbd\\xc2\\xad@ i\\xa6\\xc7\\xa7\\x1aT\\x1e\\xfc\\x94\\xe2W\\xa3\\xa9\\x0b\\xf3\\xc7\\xd7L\\x1a\\xc2\\xc8\\x85\\xac\\xd8\\x9b\\x1bV\\x8d'[:32])\n",
    "#auth = Keypair()\n",
    "solana_client.request_airdrop(auth.public_key, 1000000000)"
   ],
   "outputs": [
    {
     "output_type": "execute_result",
     "data": {
      "text/plain": [
       "{'jsonrpc': '2.0',\n",
       " 'result': '54BB343AdcCkNKfvS4FQKqVwM4EvUgFJwn2rVVketzbaKv8kdqKYPh2AKh2qPHgd4m7AQCJneuHviPhYrmo6ih2q',\n",
       " 'id': 1}"
      ]
     },
     "metadata": {},
     "execution_count": 2
    }
   ],
   "metadata": {}
  },
  {
   "cell_type": "code",
   "execution_count": 3,
   "source": [
    "v = Vector(auth, max_length = 100, run_transaction=True)\n",
    "sleep(20)"
   ],
   "outputs": [],
   "metadata": {}
  },
  {
   "cell_type": "code",
   "execution_count": 8,
   "source": [
    "print_account_data(v)"
   ],
   "outputs": [
    {
     "output_type": "stream",
     "name": "stdout",
     "text": [
      "b's\\xb9\\xaf\\xc9\\xb3s\\xf2\\xad\\xf1\\xc7}\\x1e\\x87{\\x06\\x8e\\x9b\\xc0\\x0ftT[c\\xf5\\x1b\\x14O\\xa5\\xc5\\xa7\\xc5\\xbd\\xc2\\xad@ i\\xa6\\xc7\\xa7\\x1aT\\x1e\\xfc\\x94\\xe2W\\xa3\\xa9\\x0b\\xf3\\xc7\\xd7L\\x1a\\xc2\\xc8\\x85\\xac\\xd8\\x9b\\x1bV\\x8d'\n"
     ]
    },
    {
     "output_type": "error",
     "ename": "TypeError",
     "evalue": "'NoneType' object is not subscriptable",
     "traceback": [
      "\u001b[0;31m---------------------------------------------------------------------------\u001b[0m",
      "\u001b[0;31mTypeError\u001b[0m                                 Traceback (most recent call last)",
      "\u001b[0;32m/var/folders/69/q0mfz75s4_v3k23n242qd4l40000gn/T/ipykernel_32724/3416763317.py\u001b[0m in \u001b[0;36m<module>\u001b[0;34m\u001b[0m\n\u001b[1;32m      1\u001b[0m \u001b[0mprint\u001b[0m\u001b[0;34m(\u001b[0m\u001b[0mauth\u001b[0m\u001b[0;34m.\u001b[0m\u001b[0msecret_key\u001b[0m\u001b[0;34m)\u001b[0m\u001b[0;34m\u001b[0m\u001b[0;34m\u001b[0m\u001b[0m\n\u001b[0;32m----> 2\u001b[0;31m \u001b[0mprint\u001b[0m\u001b[0;34m(\u001b[0m\u001b[0msolana_client\u001b[0m\u001b[0;34m.\u001b[0m\u001b[0mget_confirmed_transaction\u001b[0m\u001b[0;34m(\u001b[0m\u001b[0mv\u001b[0m\u001b[0;34m.\u001b[0m\u001b[0minit_tx_sig\u001b[0m\u001b[0;34m[\u001b[0m\u001b[0;34m'result'\u001b[0m\u001b[0;34m]\u001b[0m\u001b[0;34m)\u001b[0m\u001b[0;34m[\u001b[0m\u001b[0;34m'result'\u001b[0m\u001b[0;34m]\u001b[0m\u001b[0;34m[\u001b[0m\u001b[0;34m'meta'\u001b[0m\u001b[0;34m]\u001b[0m\u001b[0;34m[\u001b[0m\u001b[0;34m'logMessages'\u001b[0m\u001b[0;34m]\u001b[0m\u001b[0;34m)\u001b[0m\u001b[0;34m\u001b[0m\u001b[0;34m\u001b[0m\u001b[0m\n\u001b[0m",
      "\u001b[0;31mTypeError\u001b[0m: 'NoneType' object is not subscriptable"
     ]
    }
   ],
   "metadata": {}
  },
  {
   "cell_type": "code",
   "execution_count": 9,
   "source": [
    "data = b'x' * 40\n",
    "tx_sig = v.push(data)\n",
    "sleep(20)\n",
    "print(solana_client.get_confirmed_transaction(tx_sig['result'])['result']['meta']['logMessages'])\n"
   ],
   "outputs": [
    {
     "output_type": "stream",
     "name": "stdout",
     "text": [
      "['Program 9ijP4o3M3PoZ57oP3Jkyjq54ZU3vt2JSnAvvomfU6woF invoke [1]', 'Program log: entrypoint reached', 'Program log: Instruction: Push', 'Program 9ijP4o3M3PoZ57oP3Jkyjq54ZU3vt2JSnAvvomfU6woF consumed 5695 of 200000 compute units', 'Program 9ijP4o3M3PoZ57oP3Jkyjq54ZU3vt2JSnAvvomfU6woF success']\n"
     ]
    }
   ],
   "metadata": {}
  },
  {
   "cell_type": "code",
   "execution_count": 10,
   "source": [
    "print(account_client.account_data(v.meta_key))\n",
    "for key in v.account_keys:\n",
    "    print(account_client.account_data(key))"
   ],
   "outputs": [
    {
     "output_type": "stream",
     "name": "stdout",
     "text": [
      "b'd\\x00\\x00\\x00\\x00\\x00\\x00\\x00\\x01\\x00\\x00\\x00\\x00\\x00\\x00\\x00(\\x00\\x00\\x00\\x00\\x00\\x00\\x002\\x00\\x00\\x00\\x00\\x00\\x00\\x002\\x00\\x00\\x00\\x00\\x00\\x00\\x00'\n",
      "b'xxxxxxxxxxxxxxxxxxxxxxxxxxxxxxxxxxxxxxxx\\x00\\x00\\x00\\x00\\x00\\x00\\x00\\x00\\x00\\x00'\n",
      "b'\\x00\\x00\\x00\\x00\\x00\\x00\\x00\\x00\\x00\\x00\\x00\\x00\\x00\\x00\\x00\\x00\\x00\\x00\\x00\\x00\\x00\\x00\\x00\\x00\\x00\\x00\\x00\\x00\\x00\\x00\\x00\\x00\\x00\\x00\\x00\\x00\\x00\\x00\\x00\\x00\\x00\\x00\\x00\\x00\\x00\\x00\\x00\\x00\\x00\\x00'\n",
      "None\n",
      "None\n",
      "None\n",
      "None\n",
      "None\n",
      "None\n",
      "None\n",
      "None\n"
     ]
    }
   ],
   "metadata": {}
  },
  {
   "cell_type": "code",
   "execution_count": 11,
   "source": [
    "tx_sig = v.pop(10)\n",
    "\n",
    "sleep(20)\n",
    "print(solana_client.get_confirmed_transaction(tx_sig['result'])['result']['meta']['logMessages'])"
   ],
   "outputs": [
    {
     "output_type": "stream",
     "name": "stdout",
     "text": [
      "['Program 9ijP4o3M3PoZ57oP3Jkyjq54ZU3vt2JSnAvvomfU6woF invoke [1]', 'Program log: entrypoint reached', 'Program log: Instruction: Pop', 'Program log: Popped the entries:', 'Program log: [120]', 'Program log: [120]', 'Program log: [120]', 'Program log: [120]', 'Program log: [120]', 'Program log: [120]', 'Program log: [120]', 'Program log: [120]', 'Program log: [120]', 'Program log: [0]', 'Program 9ijP4o3M3PoZ57oP3Jkyjq54ZU3vt2JSnAvvomfU6woF consumed 14731 of 200000 compute units', 'Program 9ijP4o3M3PoZ57oP3Jkyjq54ZU3vt2JSnAvvomfU6woF success']\n"
     ]
    }
   ],
   "metadata": {}
  },
  {
   "cell_type": "code",
   "execution_count": 12,
   "source": [],
   "outputs": [
    {
     "output_type": "stream",
     "name": "stdout",
     "text": [
      "b'd\\x00\\x00\\x00\\x00\\x00\\x00\\x00\\x01\\x00\\x00\\x00\\x00\\x00\\x00\\x00\\x1e\\x00\\x00\\x00\\x00\\x00\\x00\\x002\\x00\\x00\\x00\\x00\\x00\\x00\\x002\\x00\\x00\\x00\\x00\\x00\\x00\\x00'\n",
      "b'xxxxxxxxxxxxxxxxxxxxxxxxxxxxxxxxxxxxxxxx\\x00\\x00\\x00\\x00\\x00\\x00\\x00\\x00\\x00\\x00'\n",
      "b'\\x00\\x00\\x00\\x00\\x00\\x00\\x00\\x00\\x00\\x00\\x00\\x00\\x00\\x00\\x00\\x00\\x00\\x00\\x00\\x00\\x00\\x00\\x00\\x00\\x00\\x00\\x00\\x00\\x00\\x00\\x00\\x00\\x00\\x00\\x00\\x00\\x00\\x00\\x00\\x00\\x00\\x00\\x00\\x00\\x00\\x00\\x00\\x00\\x00\\x00'\n",
      "None\n",
      "None\n",
      "None\n",
      "None\n",
      "None\n",
      "None\n",
      "None\n",
      "None\n"
     ]
    }
   ],
   "metadata": {}
  },
  {
   "cell_type": "code",
   "execution_count": 13,
   "source": [
    "tx_sig = v.get(0, 70)\n",
    "\n",
    "sleep(20)\n",
    "print(solana_client.get_confirmed_transaction(tx_sig['result'])['result']['meta']['logMessages'])"
   ],
   "outputs": [
    {
     "output_type": "stream",
     "name": "stdout",
     "text": [
      "['Program 9ijP4o3M3PoZ57oP3Jkyjq54ZU3vt2JSnAvvomfU6woF invoke [1]', 'Program log: entrypoint reached', 'Program log: Instruction: Delete', 'Program log: Removed the lamports from all the accounts', 'Program 9ijP4o3M3PoZ57oP3Jkyjq54ZU3vt2JSnAvvomfU6woF consumed 4929 of 200000 compute units', 'Program 9ijP4o3M3PoZ57oP3Jkyjq54ZU3vt2JSnAvvomfU6woF success']\n"
     ]
    }
   ],
   "metadata": {}
  },
  {
   "cell_type": "code",
   "execution_count": null,
   "source": [
    "print(account_client.account_data(v.meta_key))\n",
    "for key in v.account_keys:\n",
    "    print(account_client.account_data(key))"
   ],
   "outputs": [],
   "metadata": {}
  },
  {
   "cell_type": "code",
   "execution_count": 27,
   "source": [
    "tx_sig = v.get(0, 20)\n",
    "\n",
    "sleep(20)\n",
    "print(solana_client.get_confirmed_transaction(tx_sig['result'])['result']['meta']['logMessages'])"
   ],
   "outputs": [
    {
     "output_type": "stream",
     "name": "stdout",
     "text": [
      "['Program 9ijP4o3M3PoZ57oP3Jkyjq54ZU3vt2JSnAvvomfU6woF invoke [1]', 'Program log: entrypoint reached', 'Program log: Instruction: Get', 'Program log: Got the entries:', 'Program log: [97]', 'Program log: [108]', 'Program log: [115]', 'Program log: [106]', 'Program log: [100]', 'Program log: [104]', 'Program log: [102]', 'Program log: [105]', 'Program log: [121]', 'Program log: [50]', 'Program log: [51]', 'Program log: [114]', 'Program log: [57]', 'Program log: [56]', 'Program log: [55]', 'Program log: [51]', 'Program log: [119]', 'Program log: [121]', 'Program log: [102]', 'Program log: [111]', 'Program 9ijP4o3M3PoZ57oP3Jkyjq54ZU3vt2JSnAvvomfU6woF consumed 23419 of 200000 compute units', 'Program 9ijP4o3M3PoZ57oP3Jkyjq54ZU3vt2JSnAvvomfU6woF success']\n"
     ]
    }
   ],
   "metadata": {}
  },
  {
   "cell_type": "code",
   "execution_count": 28,
   "source": [
    "tx_sig = v.get(0, 20)\n",
    "\n",
    "sleep(20)\n",
    "print(solana_client.get_confirmed_transaction(tx_sig['result'])['result']['meta']['logMessages'])"
   ],
   "outputs": [
    {
     "output_type": "stream",
     "name": "stdout",
     "text": [
      "['Program 9ijP4o3M3PoZ57oP3Jkyjq54ZU3vt2JSnAvvomfU6woF invoke [1]', 'Program log: entrypoint reached', 'Program log: Instruction: Delete', 'Program log: Removed the lamports from all the accounts', 'Program 9ijP4o3M3PoZ57oP3Jkyjq54ZU3vt2JSnAvvomfU6woF consumed 5278 of 200000 compute units', 'Program 9ijP4o3M3PoZ57oP3Jkyjq54ZU3vt2JSnAvvomfU6woF success']\n"
     ]
    }
   ],
   "metadata": {}
  },
  {
   "cell_type": "code",
   "execution_count": null,
   "source": [],
   "outputs": [],
   "metadata": {}
  }
 ],
 "metadata": {
  "orig_nbformat": 4,
  "language_info": {
   "name": "python",
   "version": "3.9.7",
   "mimetype": "text/x-python",
   "codemirror_mode": {
    "name": "ipython",
    "version": 3
   },
   "pygments_lexer": "ipython3",
   "nbconvert_exporter": "python",
   "file_extension": ".py"
  },
  "kernelspec": {
   "name": "python3",
   "display_name": "Python 3.9.7 64-bit"
  },
  "interpreter": {
   "hash": "aee8b7b246df8f9039afb4144a1f6fd8d2ca17a180786b69acc140d282b71a49"
  }
 },
 "nbformat": 4,
 "nbformat_minor": 2
}