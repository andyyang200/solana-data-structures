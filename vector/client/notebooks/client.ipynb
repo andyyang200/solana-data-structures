{
 "cells": [
  {
   "cell_type": "code",
   "execution_count": 1,
   "source": [
    "import sys\n",
    "sys.path.append('..')\n",
    "\n",
    "from vector import Vector\n",
    "from account_info import Client as AccountClient\n",
    "from solana.publickey import PublicKey\n",
    "from solana.keypair import Keypair\n",
    "from solana.rpc.api import Client\n",
    "\n",
    "from time import sleep\n",
    "\n",
    "\n",
    "solana_client = Client(\"https://api.devnet.solana.com\")\n",
    "account_client = AccountClient()"
   ],
   "outputs": [],
   "metadata": {}
  },
  {
   "cell_type": "code",
   "execution_count": 2,
   "source": [
    "\n",
    "#auth = Keypair(b's\\xb9\\xaf\\xc9\\xb3s\\xf2\\xad\\xf1\\xc7}\\x1e\\x87{\\x06\\x8e\\x9b\\xc0\\x0ftT[c\\xf5\\x1b\\x14O\\xa5\\xc5\\xa7\\xc5\\xbd\\xc2\\xad@ i\\xa6\\xc7\\xa7\\x1aT\\x1e\\xfc\\x94\\xe2W\\xa3\\xa9\\x0b\\xf3\\xc7\\xd7L\\x1a\\xc2\\xc8\\x85\\xac\\xd8\\x9b\\x1bV\\x8d')\n",
    "auth = Keypair()\n",
    "solana_client.request_airdrop(auth.public_key, 1000000000)"
   ],
   "outputs": [
    {
     "output_type": "execute_result",
     "data": {
      "text/plain": [
       "{'jsonrpc': '2.0',\n",
       " 'result': '2sJ9qzj4Ji9paGTZukam1EHGkyJQK2JuhoohJKWyHqQ1saB1znKNHFUxmwT9Qg7nhQhEQ6trxZvo7vdcvopyQj3s',\n",
       " 'id': 1}"
      ]
     },
     "metadata": {},
     "execution_count": 2
    }
   ],
   "metadata": {}
  },
  {
   "cell_type": "code",
   "execution_count": 11,
   "source": [
    "v = Vector(auth, max_length = 100, run_transaction=True)"
   ],
   "outputs": [],
   "metadata": {}
  },
  {
   "cell_type": "code",
   "execution_count": 15,
   "source": [
    "print(auth.secret_key)\n",
    "print(solana_client.get_confirmed_transaction(v.init_tx_sig['result'])['result']['meta']['logMessages'])"
   ],
   "outputs": [
    {
     "output_type": "stream",
     "name": "stdout",
     "text": [
      "b's\\xb9\\xaf\\xc9\\xb3s\\xf2\\xad\\xf1\\xc7}\\x1e\\x87{\\x06\\x8e\\x9b\\xc0\\x0ftT[c\\xf5\\x1b\\x14O\\xa5\\xc5\\xa7\\xc5\\xbd\\xc2\\xad@ i\\xa6\\xc7\\xa7\\x1aT\\x1e\\xfc\\x94\\xe2W\\xa3\\xa9\\x0b\\xf3\\xc7\\xd7L\\x1a\\xc2\\xc8\\x85\\xac\\xd8\\x9b\\x1bV\\x8d'\n",
      "['Program 9ijP4o3M3PoZ57oP3Jkyjq54ZU3vt2JSnAvvomfU6woF invoke [1]', 'Program log: entrypoint reached', 'Program log: Instruction: Initialize', 'Program log: Initialize vector signed', 'Program log: Done parsing accounts and instruction data', 'Program 11111111111111111111111111111111 invoke [2]', 'Program 11111111111111111111111111111111 success', 'Program log: Created vector meta account', 'Program 11111111111111111111111111111111 invoke [2]', 'Program 11111111111111111111111111111111 success', 'Program log: Created vector account 0', 'Program 11111111111111111111111111111111 invoke [2]', 'Program 11111111111111111111111111111111 success', 'Program log: Created vector account 1', 'Program log: Completed initialize', 'Program 9ijP4o3M3PoZ57oP3Jkyjq54ZU3vt2JSnAvvomfU6woF consumed 23958 of 200000 compute units', 'Program 9ijP4o3M3PoZ57oP3Jkyjq54ZU3vt2JSnAvvomfU6woF success']\n"
     ]
    }
   ],
   "metadata": {}
  },
  {
   "cell_type": "code",
   "execution_count": 25,
   "source": [
    "data = b'x' * 10\n",
    "#tx_sig = v.push(data)\n",
    "#sleep(20)\n",
    "print(solana_client.get_confirmed_transaction(tx_sig['result'])['result']['meta']['logMessages'])\n"
   ],
   "outputs": [
    {
     "output_type": "stream",
     "name": "stdout",
     "text": [
      "['Program 9ijP4o3M3PoZ57oP3Jkyjq54ZU3vt2JSnAvvomfU6woF invoke [1]', 'Program log: entrypoint reached', 'Program log: Instruction: Push', 'Program 9ijP4o3M3PoZ57oP3Jkyjq54ZU3vt2JSnAvvomfU6woF consumed 5275 of 200000 compute units', 'Program 9ijP4o3M3PoZ57oP3Jkyjq54ZU3vt2JSnAvvomfU6woF success']\n"
     ]
    }
   ],
   "metadata": {}
  },
  {
   "cell_type": "code",
   "execution_count": 6,
   "source": [
    "print(account_client.account_data(v.meta_key))\n",
    "for key in v.account_keys:\n",
    "    print(account_client.account_data(key))"
   ],
   "outputs": [
    {
     "output_type": "stream",
     "name": "stdout",
     "text": [
      "b'd\\x00\\x00\\x00\\x00\\x00\\x00\\x00\\x01\\x00\\x00\\x00\\x00\\x00\\x00\\x00 \\x00\\x00\\x00\\x00\\x00\\x00\\x002\\x00\\x00\\x00\\x00\\x00\\x00\\x002\\x00\\x00\\x00\\x00\\x00\\x00\\x00'\n",
      "b'alsjdhfiy23r9873wyfoauidfhajihoq2i7y398746\\x00\\x00\\x00\\x00\\x00\\x00\\x00\\x00'\n",
      "b'\\x00\\x00\\x00\\x00\\x00\\x00\\x00\\x00\\x00\\x00\\x00\\x00\\x00\\x00\\x00\\x00\\x00\\x00\\x00\\x00\\x00\\x00\\x00\\x00\\x00\\x00\\x00\\x00\\x00\\x00\\x00\\x00\\x00\\x00\\x00\\x00\\x00\\x00\\x00\\x00\\x00\\x00\\x00\\x00\\x00\\x00\\x00\\x00\\x00\\x00'\n",
      "None\n",
      "None\n",
      "None\n",
      "None\n",
      "None\n",
      "None\n",
      "None\n",
      "None\n"
     ]
    }
   ],
   "metadata": {}
  },
  {
   "cell_type": "code",
   "execution_count": 21,
   "source": [
    "tx_sig = v.pop(10)\n",
    "\n",
    "sleep(20)\n",
    "print(solana_client.get_confirmed_transaction(tx_sig['result'])['result']['meta']['logMessages'])"
   ],
   "outputs": [
    {
     "output_type": "stream",
     "name": "stdout",
     "text": [
      "{'jsonrpc': '2.0', 'result': '2FdpcYNvR3RfTuohkZAKJxwa4C8akQufyPB33CjgVTC47kwxhtVmmjTkr5XazVqMKHtTTstvPmLv2rmXnL4Fhp1j', 'id': 6}\n",
      "['Program 9ijP4o3M3PoZ57oP3Jkyjq54ZU3vt2JSnAvvomfU6woF invoke [1]', 'Program log: entrypoint reached', 'Program log: Instruction: Pop', 'Program log: Popped the entries:', 'Program log: [105]', 'Program log: [55]', 'Program log: [121]', 'Program log: [51]', 'Program log: [57]', 'Program log: [56]', 'Program log: [55]', 'Program log: [52]', 'Program log: [54]', 'Program log: [0]', 'Program 9ijP4o3M3PoZ57oP3Jkyjq54ZU3vt2JSnAvvomfU6woF consumed 14598 of 200000 compute units', 'Program 9ijP4o3M3PoZ57oP3Jkyjq54ZU3vt2JSnAvvomfU6woF success']\n"
     ]
    }
   ],
   "metadata": {}
  },
  {
   "cell_type": "code",
   "execution_count": 26,
   "source": [
    "print(account_client.account_data(v.meta_key))\n",
    "for key in v.account_keys:\n",
    "    print(account_client.account_data(key))"
   ],
   "outputs": [
    {
     "output_type": "stream",
     "name": "stdout",
     "text": [
      "b'd\\x00\\x00\\x00\\x00\\x00\\x00\\x00\\x01\\x00\\x00\\x00\\x00\\x00\\x00\\x00*\\x00\\x00\\x00\\x00\\x00\\x00\\x002\\x00\\x00\\x00\\x00\\x00\\x00\\x002\\x00\\x00\\x00\\x00\\x00\\x00\\x00'\n",
      "b'alsjdhfiy23r9873wyfoauidfhajihoqxxxxxxxxxx\\x00\\x00\\x00\\x00\\x00\\x00\\x00\\x00'\n",
      "b'\\x00\\x00\\x00\\x00\\x00\\x00\\x00\\x00\\x00\\x00\\x00\\x00\\x00\\x00\\x00\\x00\\x00\\x00\\x00\\x00\\x00\\x00\\x00\\x00\\x00\\x00\\x00\\x00\\x00\\x00\\x00\\x00\\x00\\x00\\x00\\x00\\x00\\x00\\x00\\x00\\x00\\x00\\x00\\x00\\x00\\x00\\x00\\x00\\x00\\x00'\n",
      "None\n",
      "None\n",
      "None\n",
      "None\n",
      "None\n",
      "None\n",
      "None\n",
      "None\n"
     ]
    }
   ],
   "metadata": {}
  },
  {
   "cell_type": "code",
   "execution_count": 27,
   "source": [
    "tx_sig = v.get(0, 20)\n",
    "\n",
    "sleep(20)\n",
    "print(solana_client.get_confirmed_transaction(tx_sig['result'])['result']['meta']['logMessages'])"
   ],
   "outputs": [
    {
     "output_type": "stream",
     "name": "stdout",
     "text": [
      "['Program 9ijP4o3M3PoZ57oP3Jkyjq54ZU3vt2JSnAvvomfU6woF invoke [1]', 'Program log: entrypoint reached', 'Program log: Instruction: Get', 'Program log: Got the entries:', 'Program log: [97]', 'Program log: [108]', 'Program log: [115]', 'Program log: [106]', 'Program log: [100]', 'Program log: [104]', 'Program log: [102]', 'Program log: [105]', 'Program log: [121]', 'Program log: [50]', 'Program log: [51]', 'Program log: [114]', 'Program log: [57]', 'Program log: [56]', 'Program log: [55]', 'Program log: [51]', 'Program log: [119]', 'Program log: [121]', 'Program log: [102]', 'Program log: [111]', 'Program 9ijP4o3M3PoZ57oP3Jkyjq54ZU3vt2JSnAvvomfU6woF consumed 23419 of 200000 compute units', 'Program 9ijP4o3M3PoZ57oP3Jkyjq54ZU3vt2JSnAvvomfU6woF success']\n"
     ]
    }
   ],
   "metadata": {}
  },
  {
   "cell_type": "code",
   "execution_count": null,
   "source": [
    "tx_sig = v.delete()\n",
    "\n",
    "sleep(20)\n",
    "print(solana_client.get_confirmed_transaction(tx_sig['result'])['result']['meta']['logMessages'])"
   ],
   "outputs": [],
   "metadata": {}
  }
 ],
 "metadata": {
  "orig_nbformat": 4,
  "language_info": {
   "name": "python",
   "version": "3.9.7",
   "mimetype": "text/x-python",
   "codemirror_mode": {
    "name": "ipython",
    "version": 3
   },
   "pygments_lexer": "ipython3",
   "nbconvert_exporter": "python",
   "file_extension": ".py"
  },
  "kernelspec": {
   "name": "python3",
   "display_name": "Python 3.9.7 64-bit"
  },
  "interpreter": {
   "hash": "aee8b7b246df8f9039afb4144a1f6fd8d2ca17a180786b69acc140d282b71a49"
  }
 },
 "nbformat": 4,
 "nbformat_minor": 2
}