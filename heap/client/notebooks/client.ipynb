{
 "cells": [
  {
   "cell_type": "code",
   "execution_count": 1,
   "source": [
    "import sys\n",
    "sys.path.append('..')\n",
    "\n",
    "from vector import Vector\n",
    "from account_info import Client as AccountClient\n",
    "from solana.publickey import PublicKey\n",
    "from solana.keypair import Keypair\n",
    "from solana.rpc.api import Client\n",
    "\n",
    "from time import sleep\n",
    "\n",
    "solana_client = Client(\"https://api.devnet.solana.com\")\n",
    "account_client = AccountClient()\n",
    "\n",
    "def print_account_data(v):\n",
    "    print(account_client.account_data(v.meta_key))\n",
    "    for key in v.account_keys:\n",
    "        print(account_client.account_data(key))"
   ],
   "outputs": [],
   "metadata": {}
  },
  {
   "cell_type": "code",
   "execution_count": 2,
   "source": [
    "auth = Keypair()\n",
    "solana_client.request_airdrop(auth.public_key, 1000000000)"
   ],
   "outputs": [
    {
     "output_type": "execute_result",
     "data": {
      "text/plain": [
       "{'jsonrpc': '2.0',\n",
       " 'result': '2BsSozHkvGH6jFwg2Yv9m9Emrkb8DUJBts2iy2aFbVctjujdTMkeyFN7HmstQvKUjxfJJQ6NUM51X3ZphKZre8Wi',\n",
       " 'id': 1}"
      ]
     },
     "metadata": {},
     "execution_count": 2
    }
   ],
   "metadata": {}
  },
  {
   "cell_type": "code",
   "execution_count": 4,
   "source": [
    "v = Vector(auth, max_length = 100, element_size = 2, run_transaction=True)\n",
    "#sleep(20)"
   ],
   "outputs": [],
   "metadata": {}
  },
  {
   "cell_type": "code",
   "execution_count": 7,
   "source": [
    "print_account_data(v)"
   ],
   "outputs": [
    {
     "output_type": "stream",
     "name": "stdout",
     "text": [
      "b'd\\x00\\x00\\x00\\x00\\x00\\x00\\x00\\x02\\x00\\x00\\x00\\x00\\x00\\x00\\x00\\x00\\x00\\x00\\x00\\x00\\x00\\x00\\x00\\x19\\x00\\x00\\x00\\x00\\x00\\x00\\x002\\x00\\x00\\x00\\x00\\x00\\x00\\x00'\n",
      "b'\\x00\\x00\\x00\\x00\\x00\\x00\\x00\\x00\\x00\\x00\\x00\\x00\\x00\\x00\\x00\\x00\\x00\\x00\\x00\\x00\\x00\\x00\\x00\\x00\\x00\\x00\\x00\\x00\\x00\\x00\\x00\\x00\\x00\\x00\\x00\\x00\\x00\\x00\\x00\\x00\\x00\\x00\\x00\\x00\\x00\\x00\\x00\\x00\\x00\\x00'\n",
      "b'\\x00\\x00\\x00\\x00\\x00\\x00\\x00\\x00\\x00\\x00\\x00\\x00\\x00\\x00\\x00\\x00\\x00\\x00\\x00\\x00\\x00\\x00\\x00\\x00\\x00\\x00\\x00\\x00\\x00\\x00\\x00\\x00\\x00\\x00\\x00\\x00\\x00\\x00\\x00\\x00\\x00\\x00\\x00\\x00\\x00\\x00\\x00\\x00\\x00\\x00'\n",
      "b'\\x00\\x00\\x00\\x00\\x00\\x00\\x00\\x00\\x00\\x00\\x00\\x00\\x00\\x00\\x00\\x00\\x00\\x00\\x00\\x00\\x00\\x00\\x00\\x00\\x00\\x00\\x00\\x00\\x00\\x00\\x00\\x00\\x00\\x00\\x00\\x00\\x00\\x00\\x00\\x00\\x00\\x00\\x00\\x00\\x00\\x00\\x00\\x00\\x00\\x00'\n",
      "b'\\x00\\x00\\x00\\x00\\x00\\x00\\x00\\x00\\x00\\x00\\x00\\x00\\x00\\x00\\x00\\x00\\x00\\x00\\x00\\x00\\x00\\x00\\x00\\x00\\x00\\x00\\x00\\x00\\x00\\x00\\x00\\x00\\x00\\x00\\x00\\x00\\x00\\x00\\x00\\x00\\x00\\x00\\x00\\x00\\x00\\x00\\x00\\x00\\x00\\x00'\n",
      "None\n",
      "None\n",
      "None\n",
      "None\n",
      "None\n",
      "None\n"
     ]
    }
   ],
   "metadata": {}
  },
  {
   "cell_type": "code",
   "execution_count": 8,
   "source": [
    "data = b'xx' * 10 + b'yy'*10\n",
    "tx_sig = v.push(data)\n",
    "#sleep(20)"
   ],
   "outputs": [],
   "metadata": {}
  },
  {
   "cell_type": "code",
   "execution_count": 9,
   "source": [
    "data = b'xx'*20\n",
    "tx_sig = v.push(data)\n",
    "#sleep(20)"
   ],
   "outputs": [],
   "metadata": {}
  },
  {
   "cell_type": "code",
   "execution_count": 15,
   "source": [
    "print_account_data(v)"
   ],
   "outputs": [
    {
     "output_type": "stream",
     "name": "stdout",
     "text": [
      "b'd\\x00\\x00\\x00\\x00\\x00\\x00\\x00\\x02\\x00\\x00\\x00\\x00\\x00\\x00\\x00(\\x00\\x00\\x00\\x00\\x00\\x00\\x00\\x19\\x00\\x00\\x00\\x00\\x00\\x00\\x002\\x00\\x00\\x00\\x00\\x00\\x00\\x00'\n",
      "b'xxxxxxxxxxxxxxxxxxxxyyyyyyyyyyyyyyyyyyyyxxxxxxxxxx'\n",
      "b'xxxxxxxxxxxxxxxxxxxxxxxxxxxxxx\\x00\\x00\\x00\\x00\\x00\\x00\\x00\\x00\\x00\\x00\\x00\\x00\\x00\\x00\\x00\\x00\\x00\\x00\\x00\\x00'\n",
      "b'\\x00\\x00\\x00\\x00\\x00\\x00\\x00\\x00\\x00\\x00\\x00\\x00\\x00\\x00\\x00\\x00\\x00\\x00\\x00\\x00\\x00\\x00\\x00\\x00\\x00\\x00\\x00\\x00\\x00\\x00\\x00\\x00\\x00\\x00\\x00\\x00\\x00\\x00\\x00\\x00\\x00\\x00\\x00\\x00\\x00\\x00\\x00\\x00\\x00\\x00'\n",
      "b'\\x00\\x00\\x00\\x00\\x00\\x00\\x00\\x00\\x00\\x00\\x00\\x00\\x00\\x00\\x00\\x00\\x00\\x00\\x00\\x00\\x00\\x00\\x00\\x00\\x00\\x00\\x00\\x00\\x00\\x00\\x00\\x00\\x00\\x00\\x00\\x00\\x00\\x00\\x00\\x00\\x00\\x00\\x00\\x00\\x00\\x00\\x00\\x00\\x00\\x00'\n",
      "None\n",
      "None\n",
      "None\n",
      "None\n",
      "None\n",
      "None\n"
     ]
    }
   ],
   "metadata": {}
  },
  {
   "cell_type": "code",
   "execution_count": 16,
   "source": [
    "tx_sig = v.pop(30)\n",
    "\n",
    "sleep(20)\n",
    "print(solana_client.get_confirmed_transaction(tx_sig['result'])['result']['meta']['logMessages'])"
   ],
   "outputs": [
    {
     "output_type": "stream",
     "name": "stdout",
     "text": [
      "['Program 9ijP4o3M3PoZ57oP3Jkyjq54ZU3vt2JSnAvvomfU6woF invoke [1]', 'Program log: entrypoint reached', 'Program log: Instruction: Pop', 'Program log: Popped the entries:', 'Program log: [121, 121]', 'Program log: [121, 121]', 'Program log: [121, 121]', 'Program log: [121, 121]', 'Program log: [121, 121]', 'Program log: [121, 121]', 'Program log: [121, 121]', 'Program log: [121, 121]', 'Program log: [121, 121]', 'Program log: [120, 120]', 'Program log: [120, 120]', 'Program log: [120, 120]', 'Program log: [120, 120]', 'Program log: [120, 120]', 'Program log: [120, 120]', 'Program log: [120, 120]', 'Program log: [120, 120]', 'Program log: [120, 120]', 'Program log: [120, 120]', 'Program log: [120, 120]', 'Program log: [120, 120]', 'Program log: [120, 120]', 'Program log: [120, 120]', 'Program log: [120, 120]', 'Program log: [120, 120]', 'Program log: [120, 120]', 'Program log: [120, 120]', 'Program log: [120, 120]', 'Program log: [120, 120]', 'Program log: [0, 0]', 'Program 9ijP4o3M3PoZ57oP3Jkyjq54ZU3vt2JSnAvvomfU6woF consumed 44663 of 200000 compute units', 'Program 9ijP4o3M3PoZ57oP3Jkyjq54ZU3vt2JSnAvvomfU6woF success']\n"
     ]
    }
   ],
   "metadata": {}
  },
  {
   "cell_type": "code",
   "execution_count": 17,
   "source": [
    "data = b'zz' * 35\n",
    "tx_sig = v.push(data)\n",
    "#sleep(20)\n",
    "\n",
    "#print(solana_client.get_confirmed_transaction(tx_sig['result'])['result']['meta']['logMessages'])"
   ],
   "outputs": [],
   "metadata": {}
  },
  {
   "cell_type": "code",
   "execution_count": 20,
   "source": [
    "print_account_data(v)\n"
   ],
   "outputs": [
    {
     "output_type": "stream",
     "name": "stdout",
     "text": [
      "b'd\\x00\\x00\\x00\\x00\\x00\\x00\\x00\\x02\\x00\\x00\\x00\\x00\\x00\\x00\\x00-\\x00\\x00\\x00\\x00\\x00\\x00\\x00\\x19\\x00\\x00\\x00\\x00\\x00\\x00\\x002\\x00\\x00\\x00\\x00\\x00\\x00\\x00'\n",
      "b'xxxxxxxxxxxxxxxxxxxxzzzzzzzzzzzzzzzzzzzzzzzzzzzzzz'\n",
      "b'zzzzzzzzzzzzzzzzzzzzzzzzzzzzzzzzzzzzzzzz\\x00\\x00\\x00\\x00\\x00\\x00\\x00\\x00\\x00\\x00'\n",
      "b'\\x00\\x00\\x00\\x00\\x00\\x00\\x00\\x00\\x00\\x00\\x00\\x00\\x00\\x00\\x00\\x00\\x00\\x00\\x00\\x00\\x00\\x00\\x00\\x00\\x00\\x00\\x00\\x00\\x00\\x00\\x00\\x00\\x00\\x00\\x00\\x00\\x00\\x00\\x00\\x00\\x00\\x00\\x00\\x00\\x00\\x00\\x00\\x00\\x00\\x00'\n",
      "b'\\x00\\x00\\x00\\x00\\x00\\x00\\x00\\x00\\x00\\x00\\x00\\x00\\x00\\x00\\x00\\x00\\x00\\x00\\x00\\x00\\x00\\x00\\x00\\x00\\x00\\x00\\x00\\x00\\x00\\x00\\x00\\x00\\x00\\x00\\x00\\x00\\x00\\x00\\x00\\x00\\x00\\x00\\x00\\x00\\x00\\x00\\x00\\x00\\x00\\x00'\n",
      "None\n",
      "None\n",
      "None\n",
      "None\n",
      "None\n",
      "None\n"
     ]
    }
   ],
   "metadata": {}
  },
  {
   "cell_type": "code",
   "execution_count": 22,
   "source": [
    "tx_sig = v.get(5, 35)\n",
    "\n",
    "sleep(25)\n",
    "print(solana_client.get_confirmed_transaction(tx_sig['result'])['result']['meta']['logMessages'])"
   ],
   "outputs": [
    {
     "output_type": "stream",
     "name": "stdout",
     "text": [
      "['Program 9ijP4o3M3PoZ57oP3Jkyjq54ZU3vt2JSnAvvomfU6woF invoke [1]', 'Program log: entrypoint reached', 'Program log: Instruction: Get', 'Program log: Got the entries:', 'Program log: [120, 120]', 'Program log: [120, 120]', 'Program log: [120, 120]', 'Program log: [120, 120]', 'Program log: [120, 120]', 'Program log: [122, 122]', 'Program log: [122, 122]', 'Program log: [122, 122]', 'Program log: [122, 122]', 'Program log: [122, 122]', 'Program log: [122, 122]', 'Program log: [122, 122]', 'Program log: [122, 122]', 'Program log: [122, 122]', 'Program log: [122, 122]', 'Program log: [122, 122]', 'Program log: [122, 122]', 'Program log: [122, 122]', 'Program log: [122, 122]', 'Program log: [122, 122]', 'Program log: [122, 122]', 'Program log: [122, 122]', 'Program log: [122, 122]', 'Program log: [122, 122]', 'Program log: [122, 122]', 'Program log: [122, 122]', 'Program log: [122, 122]', 'Program log: [122, 122]', 'Program log: [122, 122]', 'Program log: [122, 122]', 'Program 9ijP4o3M3PoZ57oP3Jkyjq54ZU3vt2JSnAvvomfU6woF consumed 44268 of 200000 compute units', 'Program 9ijP4o3M3PoZ57oP3Jkyjq54ZU3vt2JSnAvvomfU6woF success']\n"
     ]
    }
   ],
   "metadata": {}
  },
  {
   "cell_type": "code",
   "execution_count": 23,
   "source": [
    "tx_sig = v.remove(1, 31)\n",
    "\n",
    "sleep(25)\n",
    "\n",
    "print(solana_client.get_confirmed_transaction(tx_sig['result'])['result']['meta']['logMessages'])"
   ],
   "outputs": [
    {
     "output_type": "stream",
     "name": "stdout",
     "text": [
      "['Program 9ijP4o3M3PoZ57oP3Jkyjq54ZU3vt2JSnAvvomfU6woF invoke [1]', 'Program log: entrypoint reached', 'Program log: Instruction: Remove', 'Program log: Removed the entries:', 'Program log: [120, 120]', 'Program log: [120, 120]', 'Program log: [120, 120]', 'Program log: [120, 120]', 'Program log: [120, 120]', 'Program log: [120, 120]', 'Program log: [120, 120]', 'Program log: [120, 120]', 'Program log: [120, 120]', 'Program log: [122, 122]', 'Program log: [122, 122]', 'Program log: [122, 122]', 'Program log: [122, 122]', 'Program log: [122, 122]', 'Program log: [122, 122]', 'Program log: [122, 122]', 'Program log: [122, 122]', 'Program log: [122, 122]', 'Program log: [122, 122]', 'Program log: [122, 122]', 'Program log: [122, 122]', 'Program log: [122, 122]', 'Program log: [122, 122]', 'Program log: [122, 122]', 'Program log: [122, 122]', 'Program log: [122, 122]', 'Program log: [122, 122]', 'Program log: [122, 122]', 'Program log: [122, 122]', 'Program log: [122, 122]', 'Program 9ijP4o3M3PoZ57oP3Jkyjq54ZU3vt2JSnAvvomfU6woF consumed 48489 of 200000 compute units', 'Program 9ijP4o3M3PoZ57oP3Jkyjq54ZU3vt2JSnAvvomfU6woF success']\n"
     ]
    }
   ],
   "metadata": {}
  },
  {
   "cell_type": "code",
   "execution_count": 24,
   "source": [
    "print_account_data(v)"
   ],
   "outputs": [
    {
     "output_type": "stream",
     "name": "stdout",
     "text": [
      "b'd\\x00\\x00\\x00\\x00\\x00\\x00\\x00\\x02\\x00\\x00\\x00\\x00\\x00\\x00\\x00\\x0f\\x00\\x00\\x00\\x00\\x00\\x00\\x00\\x19\\x00\\x00\\x00\\x00\\x00\\x00\\x002\\x00\\x00\\x00\\x00\\x00\\x00\\x00'\n",
      "b'xxzzzzzzzzzzzzzzzzzzzzzzzzzzzzzzzzzzzzzzzzzzzzzzzz'\n",
      "b'zzzzzzzzzzzzzzzzzzzzzzzzzzzzzzzzzzzzzzzz\\x00\\x00\\x00\\x00\\x00\\x00\\x00\\x00\\x00\\x00'\n",
      "b'\\x00\\x00\\x00\\x00\\x00\\x00\\x00\\x00\\x00\\x00\\x00\\x00\\x00\\x00\\x00\\x00\\x00\\x00\\x00\\x00\\x00\\x00\\x00\\x00\\x00\\x00\\x00\\x00\\x00\\x00\\x00\\x00\\x00\\x00\\x00\\x00\\x00\\x00\\x00\\x00\\x00\\x00\\x00\\x00\\x00\\x00\\x00\\x00\\x00\\x00'\n",
      "b'\\x00\\x00\\x00\\x00\\x00\\x00\\x00\\x00\\x00\\x00\\x00\\x00\\x00\\x00\\x00\\x00\\x00\\x00\\x00\\x00\\x00\\x00\\x00\\x00\\x00\\x00\\x00\\x00\\x00\\x00\\x00\\x00\\x00\\x00\\x00\\x00\\x00\\x00\\x00\\x00\\x00\\x00\\x00\\x00\\x00\\x00\\x00\\x00\\x00\\x00'\n",
      "None\n",
      "None\n",
      "None\n",
      "None\n",
      "None\n",
      "None\n"
     ]
    }
   ],
   "metadata": {}
  },
  {
   "cell_type": "code",
   "execution_count": 25,
   "source": [
    "data = b'ff' * 10 + b'kk'*10\n",
    "tx_sig = v.push(data)"
   ],
   "outputs": [],
   "metadata": {}
  },
  {
   "cell_type": "code",
   "execution_count": 28,
   "source": [
    "print_account_data(v)"
   ],
   "outputs": [
    {
     "output_type": "stream",
     "name": "stdout",
     "text": [
      "b'd\\x00\\x00\\x00\\x00\\x00\\x00\\x00\\x02\\x00\\x00\\x00\\x00\\x00\\x00\\x00#\\x00\\x00\\x00\\x00\\x00\\x00\\x00\\x19\\x00\\x00\\x00\\x00\\x00\\x00\\x002\\x00\\x00\\x00\\x00\\x00\\x00\\x00'\n",
      "b'xxzzzzzzzzzzzzzzzzzzzzzzzzzzzzffffffffffffffffffff'\n",
      "b'kkkkkkkkkkkkkkkkkkkkzzzzzzzzzzzzzzzzzzzz\\x00\\x00\\x00\\x00\\x00\\x00\\x00\\x00\\x00\\x00'\n",
      "b'\\x00\\x00\\x00\\x00\\x00\\x00\\x00\\x00\\x00\\x00\\x00\\x00\\x00\\x00\\x00\\x00\\x00\\x00\\x00\\x00\\x00\\x00\\x00\\x00\\x00\\x00\\x00\\x00\\x00\\x00\\x00\\x00\\x00\\x00\\x00\\x00\\x00\\x00\\x00\\x00\\x00\\x00\\x00\\x00\\x00\\x00\\x00\\x00\\x00\\x00'\n",
      "b'\\x00\\x00\\x00\\x00\\x00\\x00\\x00\\x00\\x00\\x00\\x00\\x00\\x00\\x00\\x00\\x00\\x00\\x00\\x00\\x00\\x00\\x00\\x00\\x00\\x00\\x00\\x00\\x00\\x00\\x00\\x00\\x00\\x00\\x00\\x00\\x00\\x00\\x00\\x00\\x00\\x00\\x00\\x00\\x00\\x00\\x00\\x00\\x00\\x00\\x00'\n",
      "None\n",
      "None\n",
      "None\n",
      "None\n",
      "None\n",
      "None\n"
     ]
    }
   ],
   "metadata": {}
  },
  {
   "cell_type": "code",
   "execution_count": 29,
   "source": [
    "v.delete()"
   ],
   "outputs": [
    {
     "output_type": "execute_result",
     "data": {
      "text/plain": [
       "{'jsonrpc': '2.0',\n",
       " 'result': '4injTcQ64cRLSLUB5dpiHboto6p3dW573qSGQPERanU6sPPcpSgBPotDjQeBGFt9EtfpxfnAnBK9cu4mhgipMKh1',\n",
       " 'id': 18}"
      ]
     },
     "metadata": {},
     "execution_count": 29
    }
   ],
   "metadata": {}
  },
  {
   "cell_type": "code",
   "execution_count": 32,
   "source": [
    "print_account_data(v)"
   ],
   "outputs": [
    {
     "output_type": "stream",
     "name": "stdout",
     "text": [
      "None\n",
      "None\n",
      "None\n",
      "None\n",
      "None\n",
      "None\n",
      "None\n",
      "None\n",
      "None\n",
      "None\n",
      "None\n"
     ]
    }
   ],
   "metadata": {}
  },
  {
   "cell_type": "code",
   "execution_count": null,
   "source": [],
   "outputs": [],
   "metadata": {}
  }
 ],
 "metadata": {
  "orig_nbformat": 4,
  "language_info": {
   "name": "python",
   "version": "3.8.9",
   "mimetype": "text/x-python",
   "codemirror_mode": {
    "name": "ipython",
    "version": 3
   },
   "pygments_lexer": "ipython3",
   "nbconvert_exporter": "python",
   "file_extension": ".py"
  },
  "kernelspec": {
   "name": "python3",
   "display_name": "Python 3.8.9 64-bit ('base': venv)"
  },
  "interpreter": {
   "hash": "e9a6266b29e077c9353bb25ac4c4bb66039e8194279b2feecc09242365b2ef67"
  }
 },
 "nbformat": 4,
 "nbformat_minor": 2
}